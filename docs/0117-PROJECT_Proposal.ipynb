{
 "cells": [
  {
   "cell_type": "markdown",
   "metadata": {},
   "source": [
    "# <center>  An Application of Genetic Algorithms to Image Segmentation </center>\n",
    "\n",
    "<center>By Katrina Gensterblum</center>"
   ]
  },
  {
   "cell_type": "markdown",
   "metadata": {},
   "source": [
    "<img src=\"https://miro.medium.com/max/798/1*Zup7AqjAsHymZttgcKYLCw.jpeg\" width=\"80%\">\n",
    "<p style=\"text-align: right;\">Image from: https://miro.medium.com/</p>"
   ]
  },
  {
   "cell_type": "markdown",
   "metadata": {},
   "source": [
    "---\n",
    "# Overview\n",
    "\n",
    "As technology advances, image data is becoming a common element of research experiments. Studies in everything from self-driving vehicles to plant biology utilize images in some capacity. However, every image analysis problem is different and processing this kind of data and retrieving specific information can be extremely time consuming. Even if a researcher already possesses knowledge in image understanding, it can be time consuming to write and validate a customized solution. Thus, if this process can be automated, a significant amount of researcher time can be recovered. The goal of this project will be to generate and develop an easy-to-use tool that can achieve this automation for image segmentation problems. \n",
    "\n",
    "In order to achieve this goal, this project will utilize the power of genetic algorithms. Genetic algorithms apply concepts of evolutionary biology to computational problems. This allows them to have several strengths over other methods including, but not limited to, being simple to implement, having flexible implementation that can adapt easily to different workflows, and having final solutions that are easily interpreted by humans. One way to think of genetic algorithms is as machine learning for machine learning. When presented with an example image, the genetic algorithm will not only find the best image segmentation algorithm to use, but will also find the optimal parameters for that specific algorithm. \n",
    "\n"
   ]
  },
  {
   "cell_type": "markdown",
   "metadata": {},
   "source": [
    "---\n",
    "# Program Description\n",
    "\n",
    "For this project, many of the components necessary already exist. The general genetic algorithm code has already been constructed and has been rewritten into an easy-to-use format. The code exists in a state that is easy to use with Jupyter notebooks as well. However, several key pieces are still missing. Two major parts of genetic algorithms are the fitness function and the genetic representation vector. The fitness function, or measure of error, is mostly finished, although it does still need to be slightly refined. The genetic representation vector, or the search space, currently works but is constructed in a basic way and is subsequently very large. A smaller search space will aid the algorithm in achieving better performance. As part of this project I will aim to refine the fitness function and shrink the overall size of the search space.  \n",
    "\n",
    "I also hope to clean up the overall code, and package it in a way that makes it easy for others to use. This includes an intuitive user experience and an immediately usable output. Since the genetic algorithm outputs a specific segmentation algorithm with optimal parameters, it is reasonable to believe we could make it output Python code to perform the segmentation process. All the user would have to do is copy the code into a Python script or Jupyter cell, and everything would run automatically from there. \n"
   ]
  },
  {
   "cell_type": "markdown",
   "metadata": {},
   "source": [
    "---\n",
    "# Project Goals  \n",
    "\n",
    "**Short Term:** Have program output usable Python code that can be run over a set of images. Double check fitness function performance.  \n",
    "**Mid Term:** Construct the genetic representation vector in a way that requires as few distinct elements as possible. Clean and package code in a way that makes it usable by others.  \n",
    "**Long Term:** Add more segmentation algorithms. Add a component to the fitness function that automatically chooses what segments to focus on.  "
   ]
  },
  {
   "cell_type": "markdown",
   "metadata": {},
   "source": [
    "---\n",
    "# Timeline  \n",
    "\n",
    "- 1/17/2020 - Proposal Due\n",
    "- 1/24/2020 - Have program output usable Python code, have idea of why the fitness function discrepancy is occurring.\n",
    "- 1/31/2020 - Project git repository and structure due. Have fitness function discrepancy fully fixed.\n",
    "- 2/7/2020  - Progress made on genetic representation vector. Ideally the logic will be figured out by now, even if the code is not.\n",
    "- 2/14/2020 - Stub functions and Example code integration (With documentation)\n",
    "- 2/21/2020 - Genetic representation vector coded, and incorporated with current code.\n",
    "- 2/28/2020 - Coding standers and Unit Test integrated into project\n",
    "- 3/6/2020  - Spring break\n",
    "- 3/13/2020 - Fix any errors that came up with encoding the genetic representation vector. If that went smoothly, look at refining fitness function or adding more segmentation algorithms.\n",
    "- 3/20/2020 - Code Draft (Code Review 1). Review current status of the paper. Figure out where additions are needed.\n",
    "- 3/27/2020 - Additions to paper started on. Results should be finishing up.\n",
    "- 4/3/2020  - Code Draft (Code Review 2). Draft 1 of paper completed. Presentation started.\n",
    "- 4/10/2020 - Revisions made to paper. Results finalized.\n",
    "- 4/17/2020 - Project, paper, and presentation finalized. \n",
    "- 4/20/2020 - Final Project and Presentation Due"
   ]
  },
  {
   "cell_type": "markdown",
   "metadata": {},
   "source": [
    "---\n",
    "# Anticipating Challenges  \n",
    "\n",
    "I need to learn how to properly package and present code for others to use. Included in this is figuring out how to have the code return a usable Python snippet. I also need to figure out how to successfully construct the smaller search space, and then incorporate this smaller search space into the current version of the code. If this smaller search space does not work, I can still use the current construction to run some tests. If I get stuck on the theoretical construction of the search space, I can focus on just decreasing the size by a few elements. Decreasing by a few is still better than nothing.  \n"
   ]
  }
 ],
 "metadata": {
  "anaconda-cloud": {},
  "kernelspec": {
   "display_name": "Python 3",
   "language": "python",
   "name": "python3"
  },
  "language_info": {
   "codemirror_mode": {
    "name": "ipython",
    "version": 3
   },
   "file_extension": ".py",
   "mimetype": "text/x-python",
   "name": "python",
   "nbconvert_exporter": "python",
   "pygments_lexer": "ipython3",
   "version": "3.7.4"
  }
 },
 "nbformat": 4,
 "nbformat_minor": 1
}
