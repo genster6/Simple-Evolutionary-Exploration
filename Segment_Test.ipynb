{
 "cells": [
  {
   "cell_type": "markdown",
   "metadata": {},
   "source": [
    "I am trying to refactor the the GAHelpers and make a single set of files that make it easy to add/remove algorithms. Where we are changing things in only one place. When complete this should replace some/all of the following:\n",
    "\n",
    "- AlgorithmParams.py\n",
    "- AlgorithmSpace.py \n",
    "- RunClass.py\n",
    "\n",
    "Maybe a few others.\n",
    "\n",
    "TODO: Want to figure out parallel Deap"
   ]
  },
  {
   "cell_type": "markdown",
   "metadata": {},
   "source": [
    "# Import image files"
   ]
  },
  {
   "cell_type": "code",
   "execution_count": null,
   "metadata": {},
   "outputs": [],
   "source": [
    "import sys\n",
    "\n",
    "###Testing"
   ]
  },
  {
   "cell_type": "code",
   "execution_count": null,
   "metadata": {},
   "outputs": [],
   "source": [
    "import logging\n",
    "logging.basicConfig(stream=sys.stdout, level=logging.ERROR)\n",
    "#logging.basicConfig(stream=sys.stdout, level=logging.INFO)"
   ]
  },
  {
   "cell_type": "code",
   "execution_count": null,
   "metadata": {},
   "outputs": [],
   "source": [
    "import cv2"
   ]
  },
  {
   "cell_type": "code",
   "execution_count": null,
   "metadata": {},
   "outputs": [],
   "source": [
    "%matplotlib inline\n",
    "import matplotlib.pylab as plt\n",
    "import imageio\n",
    "from skimage import color\n",
    "\n",
    "from see import JupyterGUI, Segmentors\n",
    "\n",
    "img = imageio.imread('Image_data/Coco_2017_unlabeled//rgbd_plant/rgb_04_009_05.png')\n",
    "gmask = imageio.imread('Image_data/Coco_2017_unlabeled/rgbd_new_label/label_04_009_05299.png')\n",
    "\n",
    "gmask = color.rgb2gray(gmask)\n",
    "plt.imshow(gmask)"
   ]
  },
  {
   "cell_type": "markdown",
   "metadata": {},
   "source": [
    "# Manual Search Tester"
   ]
  },
  {
   "cell_type": "markdown",
   "metadata": {},
   "source": [
    "TODO: Cam - Find the best parameters for these functions. Most algorithms come from here:\n",
    "\n",
    "https://scikit-image.org/docs/dev/api/skimage.segmentation.html"
   ]
  },
  {
   "cell_type": "code",
   "execution_count": null,
   "metadata": {},
   "outputs": [],
   "source": [
    "from see import Segmentors"
   ]
  },
  {
   "cell_type": "code",
   "execution_count": null,
   "metadata": {},
   "outputs": [],
   "source": [
    "Segmentors.algorithmspace"
   ]
  },
  {
   "cell_type": "code",
   "execution_count": null,
   "metadata": {},
   "outputs": [],
   "source": [
    "tot = len(Segmentors.algorithmspace)\n",
    "fig = plt.figure(figsize=(20,20))\n",
    "ax = fig.add_subplot(5,5,1)\n",
    "ax.imshow(img)\n",
    "for index, segkey in enumerate(Segmentors.algorithmspace):\n",
    "    ax = fig.add_subplot(5,5,index+2)\n",
    "    seg = Segmentors.algorithmspace[segkey]()\n",
    "    mask = seg.evaluate(img.copy())\n",
    "    ax.imshow(mask)\n",
    "    plt.title(segkey)"
   ]
  },
  {
   "cell_type": "code",
   "execution_count": null,
   "metadata": {},
   "outputs": [],
   "source": [
    "params = ['WS', 7563, 0.13, 2060, 0.01, 4342, 850, 10, 0.57, 1863, 1543, 134, 3, 1, 0.35, (1, 1), 8.1, 'checkerboard', 'checkerboard', 3, 7625, -35, 0.0, 0.0, 0.0]\n",
    "JupyterGUI.segmentwidget(img, gmask, params)"
   ]
  },
  {
   "cell_type": "code",
   "execution_count": null,
   "metadata": {},
   "outputs": [],
   "source": [
    "params = ['WS', 7563, 0.13, 2060, 0.01, 4342, 850, 10, 0.57, 1863, 1543, 134, 3, 1, 0.35, (1, 1), 8.1, 'checkerboard', 'checkerboard', 3, 7625, -35, 0.0, 0.0, 0.0]\n",
    "seg = Segmentors.algoFromParams(params)\n",
    "mask = seg.evaluate(img)\n",
    "mask.shape"
   ]
  },
  {
   "cell_type": "code",
   "execution_count": null,
   "metadata": {},
   "outputs": [],
   "source": [
    "mask"
   ]
  },
  {
   "cell_type": "code",
   "execution_count": null,
   "metadata": {
    "scrolled": true
   },
   "outputs": [],
   "source": [
    "plt.imshow(mask)"
   ]
  },
  {
   "cell_type": "markdown",
   "metadata": {},
   "source": [
    "# Fitness Function Testing\n"
   ]
  },
  {
   "cell_type": "code",
   "execution_count": null,
   "metadata": {},
   "outputs": [],
   "source": [
    "%matplotlib inline\n",
    "import matplotlib.pylab as plt\n",
    "from see import Segmentors"
   ]
  },
  {
   "cell_type": "code",
   "execution_count": null,
   "metadata": {
    "scrolled": true
   },
   "outputs": [],
   "source": [
    "params = ['CT', 7563, 0.13, 2060, 0.01, 4342, 850, 10, 0.57, 1863, 1543, 134, 3, 1, 0.35, (1, 1), 8.1, 'checkerboard', 'checkerboard', 3, 7625, -35, 0.0, 0.0, 0.0]\n",
    "seg = Segmentors.algoFromParams(params)\n",
    "mask = seg.evaluate(img)\n",
    "\n",
    "from scipy import misc, ndimage #DIRK DEBUGGING\n",
    "gmask, _ = ndimage.measurements.label(gmask) # DIRK DEBUGGING    \n",
    "mask, _ = ndimage.measurements.label(mask) # DIRK DEBUGGING\n",
    "\n",
    "JupyterGUI.showthree(gmask,mask, gmask*53-mask) #This is a hack to try to see what is going on.\n"
   ]
  },
  {
   "cell_type": "code",
   "execution_count": null,
   "metadata": {},
   "outputs": [],
   "source": [
    "%%time \n",
    "Segmentors.FitnessFunction_old(mask,gmask)"
   ]
  },
  {
   "cell_type": "code",
   "execution_count": null,
   "metadata": {
    "scrolled": true
   },
   "outputs": [],
   "source": [
    "%%time \n",
    "fitness, best = Segmentors.FitnessFunction(mask,gmask)\n",
    "fitness"
   ]
  },
  {
   "cell_type": "code",
   "execution_count": null,
   "metadata": {},
   "outputs": [],
   "source": [
    "gmask.shape"
   ]
  },
  {
   "cell_type": "code",
   "execution_count": null,
   "metadata": {},
   "outputs": [],
   "source": [
    "gmask.shape[0]*gmask.shape[1]"
   ]
  },
  {
   "cell_type": "code",
   "execution_count": null,
   "metadata": {
    "scrolled": true
   },
   "outputs": [],
   "source": [
    "7098-6919"
   ]
  },
  {
   "cell_type": "code",
   "execution_count": null,
   "metadata": {},
   "outputs": [],
   "source": [
    "newmask = mask.copy()\n",
    "for key in best:\n",
    "    newmask[mask==key] = best[key]\n",
    "plt.imshow(newmask)\n",
    "plt.colorbar()"
   ]
  },
  {
   "cell_type": "markdown",
   "metadata": {},
   "source": [
    "# Code Inspection?\n",
    "The ```inspect``` library is something we will like"
   ]
  },
  {
   "cell_type": "code",
   "execution_count": null,
   "metadata": {
    "scrolled": true
   },
   "outputs": [],
   "source": [
    "import inspect\n",
    "params = ['CV', 7563, 0.13, 2060, 0.01, 4342, 850, 10, 0.57, 1863, 1543, 134, 3, 1, 0.35, (1, 1), 8.1, 'checkerboard', 'checkerboard', 3, 7625, -35, 0.0, 0.0, 0.0]\n",
    "seg = Segmentors.algoFromParams(params)\n",
    "print(inspect.getsource(seg.evaluate))"
   ]
  },
  {
   "cell_type": "code",
   "execution_count": null,
   "metadata": {},
   "outputs": [],
   "source": [
    "help(seg)"
   ]
  },
  {
   "cell_type": "code",
   "execution_count": null,
   "metadata": {},
   "outputs": [],
   "source": [
    "x = inspect.getsource(seg.evaluate)\n",
    "x = x.split('\\n')\n",
    "for l in x:\n",
    "    if not \"#XX\" in l:\n",
    "        print(l[8:])"
   ]
  },
  {
   "cell_type": "markdown",
   "metadata": {},
   "source": [
    "# Run Genetic Search"
   ]
  },
  {
   "cell_type": "code",
   "execution_count": null,
   "metadata": {},
   "outputs": [],
   "source": [
    "from see import GeneticSearch"
   ]
  },
  {
   "cell_type": "code",
   "execution_count": null,
   "metadata": {},
   "outputs": [],
   "source": [
    "ee = GeneticSearch.Evolver(img, gmask, pop_size=5)"
   ]
  },
  {
   "cell_type": "code",
   "execution_count": null,
   "metadata": {},
   "outputs": [],
   "source": [
    "#ee.run(startfile=\"test.json\", checkpoint=\"checkpoint.json\")"
   ]
  },
  {
   "cell_type": "code",
   "execution_count": null,
   "metadata": {},
   "outputs": [],
   "source": [
    "population = ee.run(100, checkpoint=\"checkpoint.json\")"
   ]
  },
  {
   "cell_type": "code",
   "execution_count": null,
   "metadata": {},
   "outputs": [],
   "source": [
    "print(ee.hof[0])"
   ]
  },
  {
   "cell_type": "code",
   "execution_count": null,
   "metadata": {},
   "outputs": [],
   "source": [
    "%%time \n",
    "seg = Segmentors.algoFromParams(ee.hof[0])\n",
    "mask = seg.evaluate(img)"
   ]
  },
  {
   "cell_type": "code",
   "execution_count": null,
   "metadata": {},
   "outputs": [],
   "source": [
    "%%time \n",
    "Segmentors.FitnessFunction_old(mask,gmask)"
   ]
  },
  {
   "cell_type": "code",
   "execution_count": null,
   "metadata": {},
   "outputs": [],
   "source": [
    "%%time \n",
    "Segmentors.FitnessFunction(mask,gmask)"
   ]
  },
  {
   "cell_type": "code",
   "execution_count": null,
   "metadata": {},
   "outputs": [],
   "source": [
    "mask = seg.evaluate(img)\n",
    "JupyterGUI.showthree(img, mask, gmask)"
   ]
  },
  {
   "cell_type": "code",
   "execution_count": null,
   "metadata": {},
   "outputs": [],
   "source": [
    "x = inspect.getsource(seg.evaluate)\n",
    "x = x.split('\\n')\n",
    "for l in x:\n",
    "    if not \"#XX\" in l:\n",
    "        print(l[8:])"
   ]
  },
  {
   "cell_type": "markdown",
   "metadata": {},
   "source": [
    "# Playing with the parameters and individual classes.  "
   ]
  },
  {
   "cell_type": "code",
   "execution_count": null,
   "metadata": {},
   "outputs": [],
   "source": [
    "%matplotlib inline\n",
    "import matplotlib.pylab as plt\n",
    "from see import Segmentors"
   ]
  },
  {
   "cell_type": "code",
   "execution_count": null,
   "metadata": {},
   "outputs": [],
   "source": [
    "x = Segmentors.algorithmspace"
   ]
  },
  {
   "cell_type": "code",
   "execution_count": null,
   "metadata": {},
   "outputs": [],
   "source": [
    "tot = len(Segmentors.algorithmspace)\n",
    "fig = plt.figure(figsize=(20,20))\n",
    "ax = fig.add_subplot(5,5,1)\n",
    "ax.imshow(img)\n",
    "for index, segkey in enumerate(Segmentors.algorithmspace):\n",
    "    ax = fig.add_subplot(5,5,index+2)\n",
    "    seg = Segmentors.algorithmspace[segkey]()\n",
    "    mask = seg.evaluate(img.copy())\n",
    "    ax.imshow(mask)\n",
    "    plt.title(segkey)"
   ]
  },
  {
   "cell_type": "markdown",
   "metadata": {},
   "source": [
    "Test the parameter parser"
   ]
  },
  {
   "cell_type": "code",
   "execution_count": null,
   "metadata": {},
   "outputs": [],
   "source": [
    "seg = Segmentors.MorphGeodesicActiveContour()\n",
    "seg.params['alpha']  = 333\n",
    "seg.params['sigma'] = 0.3\n",
    "seg.params['iterations'] = 10\n",
    "seg.params['init_level_set_morph'] = 'circle'\n",
    "seg.params['smoothing'] = 4\n",
    "seg.params['balloon'] = -10\n",
    "mask = seg.evaluate(img)\n",
    "JupyterGUI.showthree(img, mask, gmask)"
   ]
  },
  {
   "cell_type": "code",
   "execution_count": null,
   "metadata": {},
   "outputs": [],
   "source": [
    "seg = Segmentors.ColorThreshold()\n",
    "seg.params['channel'] = 1\n",
    "seg.params['mu'] = 0.3\n",
    "seg.params['sigma'] = 0.6\n",
    "mask = seg.evaluate(img)\n",
    "showthree(img, mask, gmask)"
   ]
  },
  {
   "cell_type": "code",
   "execution_count": null,
   "metadata": {},
   "outputs": [],
   "source": [
    "seg = Segmentors.Watershed()\n",
    "seg.params['compactness'] = 10\n",
    "mask = seg.evaluate(img)\n",
    "JupyterGUI.showthree(img, mask, gmask)"
   ]
  },
  {
   "cell_type": "code",
   "execution_count": null,
   "metadata": {},
   "outputs": [],
   "source": [
    "seg = Segmentors.Slic()\n",
    "seg.params['n_segments'] = 15\n",
    "seg.params['compactness'] = 1\n",
    "seg.params['iterations']= 20\n",
    "seg.params['sigma'] = 5\n",
    "print(f\"({seg.params['n_segments']}, {seg.params['compactness']}, {seg.params['iterations']}, {seg.params['sigma']})\")\n",
    "mask = seg.evaluate(img)\n",
    "JupyterGUI.showthree(img, mask, gmask)"
   ]
  },
  {
   "cell_type": "code",
   "execution_count": null,
   "metadata": {},
   "outputs": [],
   "source": [
    "seg = Segmentors.QuickShift()\n",
    "#kernel_size=3, max_dist=6, ratio=0.5)\n",
    "seg.params['kernel_size'] = 5\n",
    "seg.params['max_dist'] = 60\n",
    "seg.params['sigma'] = 0.5\n",
    "seg.params['seed'] = 1\n",
    "mask = seg.evaluate(img)\n",
    "JupyterGUI.showthree(img, mask, gmask)"
   ]
  },
  {
   "cell_type": "code",
   "execution_count": null,
   "metadata": {},
   "outputs": [],
   "source": [
    "seg = Segmentors.Felzenszwalb()\n",
    "print(f\"{seg.params['algorithm']} = ({seg.params['scale']}, {seg.params['sigma']}, {seg.params['min_size']})\")\n",
    "mask = seg.evaluate(img)\n",
    "JupyterGUI.showthree(img, mask, gmask)"
   ]
  },
  {
   "cell_type": "code",
   "execution_count": null,
   "metadata": {},
   "outputs": [],
   "source": [
    "params = ['FB', 515,  0.566, 984, 0.09, 92, 436, 10, 0.59, 4, 841, 134, 8, 0.01, 0.85, [2, 1], 0.0, 'checkerboard', 'circle', 1, 895, -49, 105, 121, 2]\n",
    "seg = Segmentors.algoFromParams(params)\n",
    "print(f\"{seg.params['algorithm']} = ({seg.params['scale']}, {seg.params['sigma']}, {seg.params['min_size']})\")\n",
    "mask = seg.evaluate(img)\n",
    "plt.imshow(mask)"
   ]
  },
  {
   "cell_type": "code",
   "execution_count": null,
   "metadata": {},
   "outputs": [],
   "source": [
    "params = ['CT', 7563, 0.13, 2060, 0.01, 4342, 850, 10, 0.57, 1863, 1543, 134, 3, 1, 0.35, (1, 1), 8.1, 'checkerboard', 'checkerboard', 3, 7625, -35, 0.0, 0.0, 0.0]\n",
    "seg = Segmentors.algoFromParams(params)\n",
    "print(f\"{seg.params['algorithm']} = ({seg.params['scale']}, {seg.params['sigma']}, {seg.params['min_size']})\")\n",
    "mask = seg.evaluate(img)\n",
    "plt.imshow(mask)"
   ]
  },
  {
   "cell_type": "markdown",
   "metadata": {},
   "source": [
    "Current Fitness function\n",
    "\n",
    "$$\\frac{(p+2)^{log(|m-n|+2)}}{L \\geq n}$$"
   ]
  },
  {
   "cell_type": "code",
   "execution_count": null,
   "metadata": {},
   "outputs": [],
   "source": [
    "[fitness, mask] = Segmentors.runAlgo(img, gmask, params, returnMask=True)\n",
    "JupyterGUI.showtwo(mask, gmask)\n",
    "plt.title(fitness)"
   ]
  },
  {
   "cell_type": "code",
   "execution_count": null,
   "metadata": {},
   "outputs": [],
   "source": [
    "p2 = ['FB', 66, 0.667, 889, 0.05, 580, 74, 10, 0.34, 365, 191, 134, 1, 0.1, 0.72, [1, 2], 4.3, 'checkerboard', 'circle', 4, 649, -49, 148, 23, 2]\n",
    "[fitness, mask] = Segmentors.runAlgo(img, gmask, p2, returnMask=True)\n",
    "JupyterGUI.showtwo(mask, gmask)\n",
    "plt.title(fitness)"
   ]
  },
  {
   "cell_type": "code",
   "execution_count": null,
   "metadata": {},
   "outputs": [],
   "source": [
    "p2 = ['FB', 690, 0.457, 656, 0.03, 569, 557, 10, 0.5, 453, 797, 134, 3, 100, 0.82, [1, 2], 7.5, 'disk', 'circle', 1, 868, -49\n",
    ", 167, 91, 2]\n",
    "[fitness, mask] = Segmentors.runAlgo(img, gmask, p2, returnMask=True)\n",
    "JupyterGUI.showtwo(mask, gmask)\n",
    "plt.title(fitness)"
   ]
  },
  {
   "cell_type": "code",
   "execution_count": null,
   "metadata": {},
   "outputs": [],
   "source": [
    "p2 = ['AC', 535, 0.203, 743, 0.09, 932, 740, 10, 0.95, 653, 855, 134, 2, 0.0001, 0.83, [1, 2], 1.4, 'disk', 'checkerboard', 4, 254, -49, 116, 7, 2]\n",
    "[fitness, mask] = Segmentors.runAlgo(img, gmask, p2, returnMask=True)\n",
    "JupyterGUI.showtwo(mask, gmask)\n",
    "plt.title(fitness)"
   ]
  },
  {
   "cell_type": "code",
   "execution_count": null,
   "metadata": {},
   "outputs": [],
   "source": [
    "print(seg)"
   ]
  },
  {
   "cell_type": "code",
   "execution_count": null,
   "metadata": {},
   "outputs": [],
   "source": [
    "Segmentors.FitnessFunction(mask,mask)"
   ]
  },
  {
   "cell_type": "code",
   "execution_count": null,
   "metadata": {},
   "outputs": [],
   "source": [
    "p2 = ['SC', 6754, 0.966, 7442, 0.06, 9630, 1340, 10, 0.1, 6547, 9204, 134, 5, 10, 0.45, (1, 1), 6.3, 'small disk', 'checkerboard', 1, 695, 49, 0.0, 0.0, 0.0]\n",
    "[fitness, mask] = Segmentors.runAlgo(img, gmask, p2, returnMask=True)\n",
    "JupyterGUI.showtwo(mask, gmask)\n",
    "plt.title(fitness)"
   ]
  },
  {
   "cell_type": "code",
   "execution_count": null,
   "metadata": {},
   "outputs": [],
   "source": [
    "p2 = ['CT', 6560, 0.046, 5877, 0.03, 5469, 4925, 10, 0.62, 5231, 1695, 134, 5, 100, 0.59, (1, 1), 4.9, 'checkerboard', 'circle', 1, 8491, -39, 0.0, 0.0, 0.0]\n",
    "[fitness, mask] = Segmentors.runAlgo(img, gmask, p2, returnMask=True)\n",
    "JupyterGUI.showtwo(mask, gmask)\n",
    "plt.title(fitness)"
   ]
  },
  {
   "cell_type": "code",
   "execution_count": null,
   "metadata": {},
   "outputs": [],
   "source": [
    "%matplotlib inline\n",
    "import matplotlib.pylab as plt\n",
    "from see import Segmentors\n",
    "p2 = ['FB', 6925, 0.955, 521, 0.07, 7916, 7771, 10, 0.45, 6657, 1525, 134, 1, 10000, 0.19, (2, 1), 6.5, 'checkerboard', 'circle', 6, 9777, -26, 0.0, 0.0, 0.0]\n",
    "[fitness, mask] = Segmentors.runAlgo(img, gmask, p2, returnMask=True)\n",
    "JupyterGUI.showthree(mask, gmask, mask-gmask)\n",
    "plt.title(fitness)"
   ]
  },
  {
   "cell_type": "code",
   "execution_count": null,
   "metadata": {},
   "outputs": [],
   "source": [
    "JupyterGUI.showSegment(img,mask)"
   ]
  },
  {
   "cell_type": "code",
   "execution_count": null,
   "metadata": {},
   "outputs": [],
   "source": [
    "p2 = ['MCV', 7594, 0.766, 5802, 0.08, 3986, 8628, 10, 0.84, 1242, 6766, 134, 3, 0.0001, 0.38, (2, 1), 2.1, 'checkerboard', 'circle', 4, 5672, 14, 0.0, 0.0, 0.0]\n",
    "[fitness, mask] = Segmentors.runAlgo(img, gmask, p2, returnMask=True)\n",
    "JupyterGUI.showtwo(mask, gmask)\n",
    "plt.title(fitness)"
   ]
  },
  {
   "cell_type": "code",
   "execution_count": null,
   "metadata": {},
   "outputs": [],
   "source": []
  }
 ],
 "metadata": {
  "kernelspec": {
   "display_name": "Python 3",
   "language": "python",
   "name": "python3"
  },
  "language_info": {
   "codemirror_mode": {
    "name": "ipython",
    "version": 3
   },
   "file_extension": ".py",
   "mimetype": "text/x-python",
   "name": "python",
   "nbconvert_exporter": "python",
   "pygments_lexer": "ipython3",
   "version": "3.7.6"
  },
  "toc": {
   "base_numbering": 1,
   "nav_menu": {},
   "number_sections": false,
   "sideBar": false,
   "skip_h1_title": false,
   "title_cell": "Table of Contents",
   "title_sidebar": "Contents",
   "toc_cell": false,
   "toc_position": {},
   "toc_section_display": false,
   "toc_window_display": false
  }
 },
 "nbformat": 4,
 "nbformat_minor": 4
}
