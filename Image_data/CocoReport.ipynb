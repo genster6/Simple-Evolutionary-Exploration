{
 "cells": [
  {
   "cell_type": "markdown",
   "metadata": {},
   "source": [
    "# Search Report"
   ]
  },
  {
   "cell_type": "code",
   "execution_count": null,
   "metadata": {},
   "outputs": [],
   "source": [
    "# import sys\n",
    "# import os\n",
    "\n",
    "# submit_dir=os.environ['SLURM_SUBMIT_DIR']\n",
    "# sys.path.append(submit_dir)"
   ]
  },
  {
   "cell_type": "code",
   "execution_count": null,
   "metadata": {},
   "outputs": [],
   "source": [
    "import matplotlib.pylab as plt\n",
    "from IPython.display import display, Markdown, Latex\n",
    "\n",
    "import re\n",
    "\n",
    "import imageio\n",
    "import numpy as np\n",
    "\n",
    "import CocoRun\n",
    "from see import Segmentors\n",
    "from see import JupyterGUI\n",
    "\n",
    "import inspect\n",
    "import argparse\n",
    "\n",
    "outputfolder = './'\n",
    "\n",
    "images, masks, outputs = CocoRun.getCocoFolderLists(outputfolder)"
   ]
  },
  {
   "cell_type": "code",
   "execution_count": null,
   "metadata": {},
   "outputs": [],
   "source": [
    "#Fitness for all files\n",
    "file = open(outputfolder+'params.txt','r')\n",
    "fitness = []\n",
    "filelines = file.readlines()\n",
    "params = filelines[0]\n",
    "for line in filelines[1:]:\n",
    "    match = re.search(' ', line)\n",
    "    fitness.append(float(line[:match.start()]))\n",
    "print(params)"
   ]
  },
  {
   "cell_type": "code",
   "execution_count": null,
   "metadata": {},
   "outputs": [],
   "source": [
    "seg = Segmentors.algoFromParams(eval(params))\n",
    "\n",
    "code = \"```python\\n\"\n",
    "code += inspect.getsource(seg.evaluate)\n",
    "code += \"```\\n\"\n",
    "\n",
    "display(Markdown(code))"
   ]
  },
  {
   "cell_type": "code",
   "execution_count": null,
   "metadata": {},
   "outputs": [],
   "source": [
    "fitness = np.array(fitness)\n",
    "total = len(fitness)\n",
    "sorted_fitness = fitness.copy()\n",
    "sorted_fitness.sort()\n",
    "\n",
    "fivehundred_err = len(fitness[fitness < 500]) / total * 100\n",
    "print(f\"This parameter got {fivehundred_err}% on all the Coco files\\n\")"
   ]
  },
  {
   "cell_type": "code",
   "execution_count": null,
   "metadata": {},
   "outputs": [],
   "source": [
    "plt.hist(fitness[fitness < 500], 50);\n",
    "plt.xlabel('fitness values')\n",
    "plt.ylabel('image count');"
   ]
  },
  {
   "cell_type": "code",
   "execution_count": null,
   "metadata": {},
   "outputs": [],
   "source": [
    "###How fitness changes over time\n",
    "file = open(f\"{outputfolder}search.out\",\"r\") \n",
    "match = ''\n",
    "tfitness = []\n",
    "for line in file.readlines():\n",
    "    if re.search('#BEST', line):\n",
    "        match = re.search(\" \\- \\[\", line)\n",
    "        tfitness.append(float(line[8:match.start()]))\n",
    "file.close()\n",
    "\n",
    "plt.plot(tfitness)\n",
    "plt.xlabel('Generation')\n",
    "plt.ylabel('Fitness')\n",
    "plt.title('Evolution of the fitness');"
   ]
  },
  {
   "cell_type": "code",
   "execution_count": null,
   "metadata": {},
   "outputs": [],
   "source": [
    "#for imagename, maskname, outputname in zip(images, masks, output):\n",
    "index = 10\n",
    "\n",
    "imagename = images[index]\n",
    "maskname = masks[index]\n",
    "outputname = outputs[index]\n",
    "\n",
    "print(\"\\n\")\n",
    "\n",
    "image = imageio.imread(imagename)\n",
    "mask = imageio.imread(maskname)\n",
    "output = imageio.imread(outputname)\n",
    "\n",
    "JupyterGUI.showthree(image,mask,output)\n",
    "print(f\"{image} {mask} {output}\")\n"
   ]
  }
 ],
 "metadata": {
  "kernelspec": {
   "display_name": "Python 3",
   "language": "python",
   "name": "python3"
  },
  "language_info": {
   "codemirror_mode": {
    "name": "ipython",
    "version": 3
   },
   "file_extension": ".py",
   "mimetype": "text/x-python",
   "name": "python",
   "nbconvert_exporter": "python",
   "pygments_lexer": "ipython3",
   "version": "3.7.5"
  }
 },
 "nbformat": 4,
 "nbformat_minor": 4
}
