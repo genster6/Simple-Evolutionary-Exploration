{
 "cells": [
  {
   "cell_type": "markdown",
   "metadata": {},
   "source": [
    "# <center>Using Ordinary Differential Equations (ODEs) in Genetic Algorithms</center>\n",
    "\n",
    "<center>by Katrina Gensterblum</center>"
   ]
  },
  {
   "cell_type": "markdown",
   "metadata": {},
   "source": [
    "---\n",
    "Ordinary differential equations (ODEs) are a critical component to many areas of research. Often they provide the mathematical foundation for a simulation, allowing researchers to highlight or discover impressive results. Even if not used to generate a simulation, they can be used to find numerical solutions or prove a concept, either in application or theory. ODEs are a concept that has an incredibly diverse range of applications as well. They are used in fields from social science to physics to biology [1].  \n",
    "\n",
    "One main reason why ODE’s have such a diverse range of applications is that they allow researchers to model how things within their research change. Not only that, but they provide a clear mathematical explanation for this change as well [2]. This provides critical evidence to substantiate any claims made by the researcher, and allows for easy validation of findings.  \n",
    "\n",
    "While ODE’s are an extremely powerful tool, it is not easy to see their application within our research area. Our research focuses on the use of genetic algorithms with image segmentation. While both genetic algorithms and image segmentation algorithms also yield significant results, these types of methods are often much more engineered than methods which utilize ODEs. Genetic algorithms in particular do not converge to a solution smoothly. Instead they rely more on randomness and initial values in order to get a good solution. However, just because it is not easy to see the application of ODEs with genetic algorithms, does not mean it is impossible.  \n",
    "\n",
    "The most obvious way we could incorporate ODEs into our algorithm, is to incorporate gradient descent with our search [3]. Currently our algorithm mutates randomly, and we rely partially on luck to converge to a good solution. Instead of only changing our individuals randomly though, we could strategically change the parameters of the individual with the best fitness (or error) value according to the gradient descent algorithm below:  \n",
    "\n",
    "$$w_{n+1} = w_{n} - \\gamma \\nabla F(w_{n})$$\n",
    "\n",
    "This more strategic way of updating the parameters may help the genetic algorithm find a good solution faster.  \n",
    "\n",
    "Another way we could incorporate ODEs into our genetic algorithm is by using them to model changes in fitness or population over the generations. This would allow us to examine in greater detail how our algorithm is working, and identify generations with significant events.  \n",
    "\n",
    "While ODEs are not obviously used within genetic algorithms, it is still possible to include them within the algorithm’s structure. Within our research specifically, there are multiple ways we could utilize their mathematical strength. This is due to their diversity in application possibilities, as well as their strong ability to aid in algorithmic performance. \n"
   ]
  },
  {
   "cell_type": "markdown",
   "metadata": {},
   "source": [
    "---\n",
    "### References\n",
    "\n",
    "[\\[1\\]](https://www.sciencedirect.com/science/article/pii/S0895717700003162) Sachs, R K, et al. “Simple ODE Models of Tumor Growth and Anti-Angiogenic or Radiation Treatment.” Mathematical and Computer Modelling, vol. 33, no. 12-13, 2001, pp. 1297–1305.  \n",
    "\n",
    "\\[2\\] Butcher, J. C. Numerical Methods for Ordinary Differential Equations. 3rd ed., Wiley, 2016.  \n",
    "\n",
    "[\\[3\\]](https://arxiv.org/pdf/1609.04747.pdf) Ruder, Sebastian. “An Overview of Gradient Descent Optimization Algorithms.” 2016. arXiv:1609.04747.\n"
   ]
  }
 ],
 "metadata": {
  "anaconda-cloud": {},
  "kernelspec": {
   "display_name": "Python 3",
   "language": "python",
   "name": "python3"
  },
  "language_info": {
   "codemirror_mode": {
    "name": "ipython",
    "version": 3
   },
   "file_extension": ".py",
   "mimetype": "text/x-python",
   "name": "python",
   "nbconvert_exporter": "python",
   "pygments_lexer": "ipython3",
   "version": "3.7.3"
  }
 },
 "nbformat": 4,
 "nbformat_minor": 1
}
